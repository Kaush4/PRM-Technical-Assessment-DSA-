{
 "cells": [
  {
   "cell_type": "code",
   "execution_count": 54,
   "id": "24a3c0be",
   "metadata": {},
   "outputs": [
    {
     "name": "stdout",
     "output_type": "stream",
     "text": [
      "Output is: \n",
      "3 0 2 "
     ]
    }
   ],
   "source": [
    "# Problem Statement - 1 (Data Structure)\n",
    "# You are given a graph and a number x as input. Your task is to print the DFS traversal nodes of the \n",
    "# input graph starting from node x. Complete the following function in order to give the required output.\n",
    "# Input Format:\n",
    "# The first line of input contains a list containing sets representing a graph. The second line of input contains the number x. \n",
    "# Output Format:\n",
    "# Complete the function in order to return the required output.\n",
    "# Sample Input 0:\n",
    "# [[1,0],[2,0],[3,0],[3,2]]\n",
    "# 3\n",
    "# Sample Output 0:\n",
    "# 3 0 2 \n",
    "\n",
    "from collections import defaultdict\n",
    "class function:\n",
    "    def __init__(self):\n",
    "        self.given_graph = defaultdict(list)\n",
    "    def setsAdd(self, m, n):\n",
    "        self.given_graph[m].append(n)\n",
    "    def dfsReg(self, n, datas):\n",
    "        datas.add(n)\n",
    "        print(n, end=' ')\n",
    "        for i in self.given_graph[n]:\n",
    "            if i not in datas:\n",
    "                self.dfsReg(i, datas)\n",
    "    def dfs_transversal_node(self, n):\n",
    "        datas = set()\n",
    "        return self.dfsReg(n, datas)\n",
    "        \n",
    "        \n",
    "obj = function()\n",
    "obj.setsAdd(1,0)\n",
    "obj.setsAdd(2,0)\n",
    "obj.setsAdd(3,0)\n",
    "obj.setsAdd(3,2)\n",
    "print(\"Output is: \")\n",
    "obj.dfs_transversal_node(3)"
   ]
  },
  {
   "cell_type": "code",
   "execution_count": 80,
   "id": "fef2f72e",
   "metadata": {},
   "outputs": [
    {
     "name": "stdout",
     "output_type": "stream",
     "text": [
      "Total Possible P_subsequence are :  4\n"
     ]
    }
   ],
   "source": [
    "# Problem Statement - 2 ( Algorithms )\n",
    "# Given a string str, your task is to write a program which takes a string str as its only input and \n",
    "# returns an integer denoting the no of palindromic subsequence (need not necessarily be distinct) which \n",
    "# could be formed from the string str.\n",
    "# Input Format:\n",
    "# The first and only line of input contains string str.\n",
    "# Output Format:\n",
    "# The output will be an integer denoting the no of palindromic subsequence which could be formed from the string str.\n",
    "# Sample Input :\n",
    "# abcdef\n",
    "# Sample Output :\n",
    "# 6\n",
    "# Explanation:\n",
    "# For string 'abcdef' palindromic subsequence are : \"a\" ,\"b\", \"c\" ,\"d\",\"e\",\"f\"\n",
    "\n",
    "def palindromic_seq(x):\n",
    "    length = len(x)\n",
    "    l1 = [[0 for i in range(length + 2)]for j in range(length + 2)]\n",
    "    for i in range(length):\n",
    "        l1[i][i] = 1\n",
    "    for k in range(2, length + 1):\n",
    "        for i in range(length):\n",
    "            m = k + i - 1\n",
    "            if (m < length):\n",
    "                if (str[i] == str[m]):\n",
    "                    l1[i][m] = (l1[i][m - 1] +\n",
    "                                 l1[i + 1][m] + 1)\n",
    "                else:\n",
    "                    l1[i][m] = (l1[i][m - 1] +\n",
    "                                 l1[i + 1][m] -\n",
    "                                 l1[i + 1][m - 1])\n",
    "    return l1[0][length - 1]\n",
    "\n",
    "given_str = \"abcd\"\n",
    "print(\"Total Possible P_subsequence are : \", palindromic_seq(given_str))"
   ]
  },
  {
   "cell_type": "code",
   "execution_count": null,
   "id": "56acf50a",
   "metadata": {},
   "outputs": [],
   "source": []
  }
 ],
 "metadata": {
  "kernelspec": {
   "display_name": "Python 3 (ipykernel)",
   "language": "python",
   "name": "python3"
  },
  "language_info": {
   "codemirror_mode": {
    "name": "ipython",
    "version": 3
   },
   "file_extension": ".py",
   "mimetype": "text/x-python",
   "name": "python",
   "nbconvert_exporter": "python",
   "pygments_lexer": "ipython3",
   "version": "3.9.12"
  }
 },
 "nbformat": 4,
 "nbformat_minor": 5
}
